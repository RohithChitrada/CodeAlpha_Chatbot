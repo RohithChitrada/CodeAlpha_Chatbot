{
  "nbformat": 4,
  "nbformat_minor": 0,
  "metadata": {
    "colab": {
      "provenance": []
    },
    "kernelspec": {
      "name": "python3",
      "display_name": "Python 3"
    },
    "language_info": {
      "name": "python"
    }
  },
  "cells": [
    {
      "cell_type": "code",
      "execution_count": null,
      "metadata": {
        "id": "tHxY33X4LbhV"
      },
      "outputs": [],
      "source": [
        "import nltk\n",
        "from nltk.chat.util import Chat, reflections"
      ]
    },
    {
      "cell_type": "code",
      "source": [
        "nltk.download('punkt')\n",
        "nltk.download('wordnet')\n"
      ],
      "metadata": {
        "colab": {
          "base_uri": "https://localhost:8080/"
        },
        "id": "HnB6G5g8Lhgf",
        "outputId": "5423055a-b66f-4adf-a0a7-29a012d4abbe"
      },
      "execution_count": null,
      "outputs": [
        {
          "output_type": "stream",
          "name": "stderr",
          "text": [
            "[nltk_data] Downloading package punkt to /root/nltk_data...\n",
            "[nltk_data]   Package punkt is already up-to-date!\n",
            "[nltk_data] Downloading package wordnet to /root/nltk_data...\n",
            "[nltk_data]   Package wordnet is already up-to-date!\n"
          ]
        },
        {
          "output_type": "execute_result",
          "data": {
            "text/plain": [
              "True"
            ]
          },
          "metadata": {},
          "execution_count": 12
        }
      ]
    },
    {
      "cell_type": "code",
      "source": [
        "pairs = [\n",
        "    (r'hi|hello|hey', ['Hello!', 'Hi there!', 'Hey!']),\n",
        "    (r'how are you ?', ['I am fine, thank you. How are you?', 'Doing well, how about you?']),\n",
        "    (r\"what is your name ?| Who are you?\", ['My name is ChatBot.', 'You can call me ChatBot.']),\n",
        "    (r'what is your favorite color ?', ['I love blue.', 'My favorite color is red.']),\n",
        "    (r\"How old are you?|What's your age?\",[\"I'm a computer program, so I don't have an age.\"]),\n",
        "    (r\"What's the weather like?|How's the weather?\",[\"I can't check the weather right now, but you can use a weather app or website.\"]),\n",
        "    (r\"Where are you from?|Where do you live?\",[\"I exist in the digital world.\"]),\n",
        "    (r\"i love you.|i like you.\",[\"sorry, But we can be friends.\"]),\n",
        "    (r\"Tell me a joke?|make me laugh\",[\"Your love life.\",\"Why did the scarecrow win an award? Because he was outstanding in his field!\"]),\n",
        "    (r\"What do you like to do?|Do you have any hobbies?\",[\"I like chatting with people!\", \"I enjoy helping you out.\", \"I love learning new things.\"]),\n",
        "    (r'quit', ['Bye!', 'Goodbye!'])\n",
        "\n",
        "]"
      ],
      "metadata": {
        "id": "SqmRrcv0NU4w"
      },
      "execution_count": null,
      "outputs": []
    },
    {
      "cell_type": "code",
      "source": [
        "def chatbot_conversation():\n",
        "    print(\"Hi, I'm your chatbot. Type 'quit' to exit.\")\n",
        "    while True:\n",
        "        user_input = input(\"You: \")\n",
        "        if user_input.lower() == 'quit':\n",
        "            print(\"ChatBot: Bye!\")\n",
        "            break\n",
        "        response = chatbot.respond(user_input)\n",
        "        if response:\n",
        "            print(\"ChatBot:\", response)\n",
        "        else:\n",
        "            print(\"ChatBot: I didn't understand that. Can you rephrase?\")"
      ],
      "metadata": {
        "id": "2dMHTCtaLoPG"
      },
      "execution_count": null,
      "outputs": []
    },
    {
      "cell_type": "code",
      "source": [
        "chatbot = Chat(pairs, reflections)"
      ],
      "metadata": {
        "id": "MmvFWsmsLr2G"
      },
      "execution_count": null,
      "outputs": []
    },
    {
      "cell_type": "code",
      "source": [
        "chatbot_conversation()"
      ],
      "metadata": {
        "colab": {
          "base_uri": "https://localhost:8080/"
        },
        "id": "hZAvOLvJLsRO",
        "outputId": "a1495be8-17bc-4f41-8af8-05521eb348ba"
      },
      "execution_count": null,
      "outputs": [
        {
          "output_type": "stream",
          "name": "stdout",
          "text": [
            "Hi, I'm your chatbot. Type 'quit' to exit.\n",
            "You: Hello\n",
            "ChatBot: Hey!\n",
            "You: Who are you?\n",
            "ChatBot: I didn't understand that. Can you rephrase?\n",
            "You: Tell me a joke\n",
            "ChatBot: Your love life.\n",
            "You: quit\n",
            "ChatBot: Bye!\n"
          ]
        }
      ]
    }
  ]
}